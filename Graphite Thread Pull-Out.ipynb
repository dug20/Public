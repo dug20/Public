{
 "cells": [
  {
   "cell_type": "markdown",
   "id": "1bdfd21c",
   "metadata": {},
   "source": [
    "# Graphite Thread Pull-Out\n",
    "\n",
    "Calculations of the maximum force that the graphite threads can take before pulling  out. Assumptions:\n",
    "\n",
    "- M4 steel bolts, ultimate tensile strength of 420 MPa [5] (not actually relevant).\n",
    "- Hole diameter for the inserts is 4.15 mm [3].\n",
    "- 2.1 kN force applied per bolt.\n",
    "- Tensile strength of G348 graphite is 41.2 MPa [1].\n",
    "- Assume shear strength is 60% of tensile strength, i.e. 24.72 MPa [2].\n",
    "- Maximum length of helicoil available is 12 mm in our case (3 diameters or '3D') [4].\n",
    "\n",
    "\n",
    "### References:\n",
    "- [1] - G348 Graphite, http://schunk-tokai.pl/en/g348/\n",
    "- [2] - Shear strength Wikipedia, https://en.wikipedia.org/wiki/Shear_strength\n",
    "- [3] - Helicoil drilling data, https://vargen.vargus.com/VargusGenWeb/help/helicoil.pdf\n",
    "- [4] - Helicoil insert lengths, https://www.thorintl.com/Drill-Sizes-HeliCoils-Metric.shtml\n",
    "- [5] - Young's modulus Engineering Toolbox, https://www.engineeringtoolbox.com/young-modulus-d_417.html"
   ]
  },
  {
   "cell_type": "code",
   "execution_count": 1,
   "id": "06b00619",
   "metadata": {},
   "outputs": [],
   "source": [
    "import numpy as np"
   ]
  },
  {
   "cell_type": "markdown",
   "id": "523fc66e",
   "metadata": {},
   "source": [
    "### Torque Required\n",
    "\n",
    "Calculate the torque that needs to be applied on each bolt with a torque wrench, to compress the gasket the right amount.\n",
    "\n",
    "Assume:\n",
    "- Torque is calculated using Reference [1]\n",
    "- K = 0.2 (representative value for mild steel bolts)\n",
    "- No lubrication (i.e. l = 0 in Reference [1])\n",
    "\n",
    "References:\n",
    "- [1] - Bolt Torque Calculator Engineering Toolbox, https://www.engineeringtoolbox.com/bolt-torque-load-calculator-d_2065.html"
   ]
  },
  {
   "cell_type": "code",
   "execution_count": 2,
   "id": "e7677836",
   "metadata": {},
   "outputs": [
    {
     "name": "stdout",
     "output_type": "stream",
     "text": [
      "Required torque = 1.68 Nm\n"
     ]
    }
   ],
   "source": [
    "FORCE = 2.1e3               # Force on each bolt (N)\n",
    "K = 0.2                     # Constant to account for friction etc, in Reference [1]\n",
    "D_BOLT = 4e-3               # Bolt diameter (m)\n",
    "\n",
    "TORQUE = K * FORCE * D_BOLT\n",
    "\n",
    "print(f\"Required torque = {TORQUE} Nm\")"
   ]
  },
  {
   "cell_type": "markdown",
   "id": "b95ae6d7",
   "metadata": {},
   "source": [
    "### Graphite Failure (Adhesive)\n",
    "\n",
    "Calculate the length required assuming a smooth insert that is attached to the smooth graphite hole with an adhesive. Assume the adhesive is stronger than the graphite, so the graphite fails first."
   ]
  },
  {
   "cell_type": "code",
   "execution_count": 3,
   "id": "b35f046f",
   "metadata": {},
   "outputs": [
    {
     "name": "stdout",
     "output_type": "stream",
     "text": [
      "Required length = 6.515876720337276 mm\n",
      "                = 1.628969180084319 diameters\n",
      "\n",
      "Therefore should use the 2D length thread at least. Maybe get 3D anyway for safety.\n"
     ]
    }
   ],
   "source": [
    "D_HOLE = 4.15e-3            # Drilled hole diameter (m)\n",
    "SHEAR_STRENGTH = 24.72e6    # Graphite shear strength (Pa)\n",
    "\n",
    "P_HOLE = np.pi * D_HOLE              # Perimeter of hole (m)\n",
    "A_REQUIRED = FORCE / SHEAR_STRENGTH  # Surface area required (m2)\n",
    "L_REQUIRED = A_REQUIRED / P_HOLE\n",
    "\n",
    "print(f\"Required length = {L_REQUIRED*1e3} mm\")\n",
    "print(f\"                = {L_REQUIRED/4e-3} diameters\")\n",
    "\n",
    "print(f\"\\nTherefore should use the {int(L_REQUIRED/4e-3) + 1}D length thread at least. Maybe get 3D anyway for safety.\")"
   ]
  },
  {
   "cell_type": "markdown",
   "id": "89d5b1af",
   "metadata": {},
   "source": [
    "### Graphite Failure (Thread Pull-Out)\n",
    "Calculate the length of helicoil required, assuming the helicoil is simply threaded into the graphite and causes failure by graphite shear. The area used for shear must be the 'internal thread shear area' given in Reference [1].\n",
    "\n",
    "Dimensions:\n",
    "- Pitch diameter: 4.5 mm [2]\n",
    "- Major diameter: 5 mm [2]\n",
    "- Threads per mm: 1 [3]\n",
    "\n",
    "### References\n",
    "- [1] - Shear Area Internal and External Thread Formula (Fed-STD-H28), https://www.engineersedge.com/thread_strength/thread_bolt_stress.htm\n",
    "- [2] - Helicoil tap chart, http://www.noblefix.com/helicoil/HeliCoil-Tapping-Chart.html\n",
    "- [3] - Helicoil insert specifications, https://katofastening.com/inserts/specs.html\n",
    "- [4] - Thread: helicoil in 6061 - How tight? How strong?, https://www.practicalmachinist.com/vb/general/helicoil-6061-how-tight-how-strong-223661/"
   ]
  },
  {
   "cell_type": "code",
   "execution_count": 4,
   "id": "59ac1d31",
   "metadata": {},
   "outputs": [
    {
     "name": "stdout",
     "output_type": "stream",
     "text": [
      "Required length = 6.85730070934479 mm\n",
      "                = 1.7143251773361976 diameters\n",
      "\n",
      "Therefore should use the 2D length thread at least. Maybe get 3D anyway for safety.\n"
     ]
    }
   ],
   "source": [
    "# Convert everything to inches\n",
    "PITCH_DIAMETER_INCH = 0.177165         # inch\n",
    "MAJOR_DIAMETER_INCH = 0.19685          # inch\n",
    "THREADS_PER_INCH = 25.4                # inch^-1\n",
    "\n",
    "A_REQUIRED_INCH2 = A_REQUIRED * 1550   # Convert required area to inch^2\n",
    "\n",
    "# Equation from Reference [1]\n",
    "L_INCH = (A_REQUIRED_INCH2 \n",
    "          / (\n",
    "              np.pi * THREADS_PER_INCH * MAJOR_DIAMETER_INCH \n",
    "             * (1 / (2*THREADS_PER_INCH) + 0.57735 * (MAJOR_DIAMETER_INCH - PITCH_DIAMETER_INCH) )\n",
    "            )\n",
    "         )\n",
    "\n",
    "# Convert to metres\n",
    "L_METRE = L_INCH * 0.0254\n",
    "\n",
    "\n",
    "print(f\"Required length = {L_METRE*1e3} mm\")\n",
    "print(f\"                = {L_METRE/4e-3} diameters\")\n",
    "\n",
    "print(f\"\\nTherefore should use the {int(L_METRE/4e-3) + 1}D length thread at least. Maybe get 3D anyway for safety.\")"
   ]
  }
 ],
 "metadata": {
  "kernelspec": {
   "display_name": "Python 3",
   "language": "python",
   "name": "python3"
  },
  "language_info": {
   "codemirror_mode": {
    "name": "ipython",
    "version": 3
   },
   "file_extension": ".py",
   "mimetype": "text/x-python",
   "name": "python",
   "nbconvert_exporter": "python",
   "pygments_lexer": "ipython3",
   "version": "3.8.8"
  }
 },
 "nbformat": 4,
 "nbformat_minor": 5
}
